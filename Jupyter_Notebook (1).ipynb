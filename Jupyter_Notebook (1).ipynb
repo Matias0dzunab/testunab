{
 "cells": [
  {
   "cell_type": "code",
   "execution_count": null,
   "metadata": {},
   "outputs": [],
   "source": [
    "# Proyecto de Ciencia de Datos Modulo 6"
   ]
  },
  {
   "cell_type": "code",
   "execution_count": null,
   "metadata": {},
   "outputs": [],
   "source": [
    "## Introducción\n",
    "Este cuaderno abarca herramientas y conceptos fundamentales de la ciencia de datos.\n"
   ]
  },
  {
   "cell_type": "code",
   "execution_count": null,
   "metadata": {},
   "outputs": [],
   "source": [
    "## Lenguajes de Ciencia de Datos\n",
    "1. Python\n",
    "2. R\n",
    "3. SQL\n",
    "4. Julia\n",
    "5. Scala"
   ]
  },
  {
   "cell_type": "code",
   "execution_count": null,
   "metadata": {},
   "outputs": [],
   "source": [
    "## Bibliotecas de Ciencia de Datos\n",
    "- Pandas\n",
    "- NumPy\n",
    "- Matplotlib\n",
    "- Scikit-learn\n",
    "- TensorFlow"
   ]
  },
  {
   "cell_type": "code",
   "execution_count": null,
   "metadata": {},
   "outputs": [],
   "source": [
    "## Herramientas de Ciencia de Datos\n",
    "\n",
    "| Herramienta         | Descripción                                  |\n",
    "|----------------------|----------------------------------------------|\n",
    "| Jupyter Notebooks    | Entorno interactivo para escribir código     |\n",
    "| RStudio              | IDE para R                                  |\n",
    "| Apache Spark         | Motor para el procesamiento de datos        |\n",
    "| Tableau              | Herramienta de visualización de datos       |\n"
   ]
  },
  {
   "cell_type": "code",
   "execution_count": null,
   "metadata": {},
   "outputs": [],
   "source": [
    "## Ejemplos de Expresiones Aritméticas\n",
    "Ejemplo de suma: `2 + 2 = 4`\n",
    "Ejemplo de multiplicación: `3 * 4 = 12`\n"
   ]
  },
  {
   "cell_type": "code",
   "execution_count": null,
   "metadata": {},
   "outputs": [],
   "source": [
    "# Multiplicación y Suma\n",
    "a = 5 * 7\n",
    "b = 3 + 8\n",
    "a, b\n"
   ]
  },
  {
   "cell_type": "code",
   "execution_count": null,
   "metadata": {},
   "outputs": [],
   "source": [
    "# Conversión de minutos a horas\n",
    "minutos = 150\n",
    "horas = minutos / 60\n",
    "horas\n"
   ]
  },
  {
   "cell_type": "code",
   "execution_count": null,
   "metadata": {},
   "outputs": [],
   "source": [
    "## Objetivos del Proyecto\n",
    "- Familiarizarse con herramientas de ciencia de datos.\n",
    "- Practicar la creación de celdas Markdown y de código.\n",
    "- Compartir el cuaderno en GitHub.\n"
   ]
  },
  {
   "cell_type": "code",
   "execution_count": null,
   "metadata": {},
   "outputs": [],
   "source": [
    "## Autor\n",
    "Matías Ortiz Domínguez\n"
   ]
  }
 ],
 "metadata": {
  "kernelspec": {
   "display_name": "Python 3 (ipykernel)",
   "language": "python",
   "name": "python3"
  },
  "language_info": {
   "codemirror_mode": {
    "name": "ipython",
    "version": 3
   },
   "file_extension": ".py",
   "mimetype": "text/x-python",
   "name": "python",
   "nbconvert_exporter": "python",
   "pygments_lexer": "ipython3",
   "version": "3.11.9"
  }
 },
 "nbformat": 4,
 "nbformat_minor": 4
}
